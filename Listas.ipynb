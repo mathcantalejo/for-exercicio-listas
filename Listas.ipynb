{
 "cells": [
  {
   "cell_type": "markdown",
   "id": "2b04bbea",
   "metadata": {
    "id": "2b04bbea"
   },
   "source": [
    "# Listas\n",
    "\n",
    "<span style=\"color: red;\"><b>Todos os exercícios são feitos partindo-se do pressuposto de que todas as entradas são dadas de forma correta. Casos limite não mencionados no enunciado não são abordados porque não fazem parte do exercício.</b></span>"
   ]
  },
  {
   "cell_type": "markdown",
   "id": "dcb81b29",
   "metadata": {
    "id": "dcb81b29"
   },
   "source": [
    "#### 1. Faça um Programa que leia as vendas dos vendedores, mostre a venda de cada vendedor com o seu nome e a média de vendas. "
   ]
  },
  {
   "cell_type": "code",
   "execution_count": 13,
   "id": "09c0d2b3",
   "metadata": {
    "id": "09c0d2b3"
   },
   "outputs": [
    {
     "name": "stdout",
     "output_type": "stream",
     "text": [
      "Fulano fez 1000 vendas\n",
      "Beltrano fez 1500 vendas\n",
      "Ciclano fez 1200 vendas\n",
      "Lira fez 1300 vendas\n",
      "\n",
      "A média foi de 1250.0 vendas.\n"
     ]
    }
   ],
   "source": [
    "vendas = [1000, 1500, 1200, 1300]\n",
    "vendedores = [\"Fulano\", \"Beltrano\", \"Ciclano\", \"Lira\"]\n",
    "\n",
    "for i, venda in enumerate(vendas):\n",
    "    print(f\"{vendedores[i]} fez {venda} vendas\")\n",
    "\n",
    "media = sum(vendas) / len(vendas)\n",
    "print(f\"\\nA média foi de {media} vendas.\")"
   ]
  },
  {
   "cell_type": "markdown",
   "id": "cbda91b3",
   "metadata": {
    "id": "cbda91b3"
   },
   "source": [
    "#### 2. Faça um Programa que crie uma lista com as médias de cada aluno, imprima as médias de cada aluno e a quantidade de alunos com média maior que 7."
   ]
  },
  {
   "cell_type": "code",
   "execution_count": 16,
   "id": "c93dd233",
   "metadata": {
    "id": "c93dd233"
   },
   "outputs": [
    {
     "name": "stdout",
     "output_type": "stream",
     "text": [
      "8.75 José\n",
      "6.5 Joana\n",
      "10.0 Maria\n",
      "6.75 Carla\n",
      "6.25 Mauricio\n",
      "7.25 Andre\n",
      "7.5 Tiago\n",
      "6.5 Enzo\n",
      "7.5 Amanda\n",
      "4.25 Alessandra\n",
      "Há 5 alunos com nota maior que 7.\n"
     ]
    }
   ],
   "source": [
    "alunos = [\"José\", \"Joana\", \"Maria\", \"Carla\", \"Mauricio\", \"Andre\", \"Tiago\", \"Enzo\", \"Amanda\", \"Alessandra\"]\n",
    "notas = [\n",
    "    [10, 9, 8, 8],\n",
    "    [9, 7, 6, 4],\n",
    "    [10, 10, 10, 10],\n",
    "    [5, 3, 10, 9],\n",
    "    [7, 6, 6, 6],\n",
    "    [7, 7, 8, 7],\n",
    "    [7, 7, 7, 9],\n",
    "    [8, 5, 6, 7],\n",
    "    [10, 9, 7, 4],\n",
    "    [10, 1, 3, 3],\n",
    "]\n",
    "\n",
    "qtde_maior_sete = 0\n",
    "\n",
    "for i, nota in enumerate(notas):   \n",
    "    media = sum(nota) / 4\n",
    "    print(media, alunos[i])\n",
    "    if media > 7:\n",
    "        qtde_maior_sete += 1\n",
    "\n",
    "print(f\"Há {qtde_maior_sete} alunos com nota maior que 7.\")\n",
    "    "
   ]
  },
  {
   "cell_type": "markdown",
   "id": "c3068a53",
   "metadata": {
    "id": "c3068a53"
   },
   "source": [
    "#### 3. Foram anotadas as idades e salários de 30 funcionários. Faça um programa que determine quantos funcionários com mais de 25 anos possuem salário inferior à média de todos os salários."
   ]
  },
  {
   "cell_type": "code",
   "execution_count": 20,
   "id": "0308566d",
   "metadata": {
    "id": "0308566d",
    "scrolled": true
   },
   "outputs": [
    {
     "name": "stdout",
     "output_type": "stream",
     "text": [
      "Há 12 funcionários com mais de 25 anos que ganham menos que a média, que é de 3319.8\n"
     ]
    }
   ],
   "source": [
    "idades = [35,32,50,33,48,50,33,48,22,49,35,38,20,47,49,48,34,21,48,44,48,30,25,42,42,23,25,23,38,35]\n",
    "salarios = [3739,2219,3554,3978,4014,3270,4792,3879,2981,2384,4826,2460,3680,4318,1872,1770,4640,3929,3295,1729,3965,4267,4007,1916,2987,2943,3852,4543,2055,1730]\n",
    "\n",
    "media = sum(salarios) / len(salarios)\n",
    "\n",
    "contar_idade = 0\n",
    "\n",
    "for i, idade in enumerate(idades):\n",
    "    if idade > 25 and salarios[i] < media:\n",
    "        contar_idade += 1\n",
    "        \n",
    "print(f\"Há {contar_idade} funcionários com mais de 25 anos que ganham menos que a média, que é de {media}\")"
   ]
  },
  {
   "cell_type": "markdown",
   "id": "1611081b",
   "metadata": {
    "id": "1611081b"
   },
   "source": [
    "#### 4.Em quais meses a média de temperatura foi maior do que a média nacional?"
   ]
  },
  {
   "cell_type": "code",
   "execution_count": 24,
   "id": "62f72e2b",
   "metadata": {
    "id": "62f72e2b"
   },
   "outputs": [
    {
     "name": "stdout",
     "output_type": "stream",
     "text": [
      "25.83\n",
      "Janeiro: 30°C\n",
      "Fevereiro: 29°C\n",
      "Março: 28°C\n",
      "Abril: 28°C\n",
      "Junho: 26°C\n",
      "Novembro: 27°C\n",
      "Dezembro: 32°C\n"
     ]
    }
   ],
   "source": [
    "meses = [\n",
    "    'Janeiro',\n",
    "    'Fevereiro',\n",
    "    'Março',\n",
    "    'Abril',\n",
    "    'Maio',\n",
    "    'Junho',\n",
    "    'Julho',\n",
    "    'Agosto',\n",
    "    'Setembro',\n",
    "    'Outubro',\n",
    "    'Novembro',\n",
    "    'Dezembro'\n",
    "]\n",
    "\n",
    "temperaturas = [30, 29, 28, 28, 25, 26, 20, 21, 19, 25, 27, 32]\n",
    "\n",
    "media_nacional = sum(temperaturas) / len(temperaturas)\n",
    "print(media_nacional)\n",
    "\n",
    "for i, mes in enumerate(meses):\n",
    "    if temperaturas[i] > media_nacional:\n",
    "        print(f\"{mes}: {temperaturas[i]}°C\")\n"
   ]
  },
  {
   "cell_type": "markdown",
   "id": "8946af31",
   "metadata": {
    "id": "8946af31"
   },
   "source": [
    "#### 5. As Organizações Tabajara resolveram dar um abono aos seus colaboradores em reconhecimento ao bom resultado alcançado durante o ano que passou. Para isto contratou você para desenvolver a aplicação que servirá como uma projeção de quanto será gasto com o pagamento deste abono.\n",
    "<pre>Após reuniões envolvendo a diretoria executiva, a diretoria financeira e os representantes do sindicato laboral, chegou-se a seguinte forma de cálculo:\n",
    ". Cada funcionário receberá o equivalente a 20% do seu salário bruto de dezembro;\n",
    ". O piso do abono será de 100 reais, isto é, aqueles funcionários cujo salário for muito baixo, recebem este valor mínimo; \n",
    "\n",
    "Neste momento, não se deve ter nenhuma preocupação com colaboradores com tempo menor de casa, descontos, impostos ou outras particularidades. O programa deverá calcular o valor do abono concedido a cada colaborador, de acordo com a regra definida acima. Ao final, o programa deverá apresentar:</pre>\n",
    "<pre>\n",
    "O salário de cada funcionário, juntamente com o valor do abono;\n",
    "O número total de funcionário processados;\n",
    "O valor total a ser gasto com o pagamento do abono;\n",
    "O número de funcionário que receberá o valor mínimo de 100 reais;\n",
    "O maior valor pago como abono; A tela abaixo é um exemplo de execução do programa, apenas para fins ilustrativos.\n",
    "<pre>\n",
    "Projeção de Gastos com Abono\n",
    "============================ \n",
    " \n",
    "Salário: 1000\n",
    "Salário: 300\n",
    "Salário: 500\n",
    "Salário: 100\n",
    "Salário: 4500\n",
    "Salário: 0\n",
    " \n",
    "Salário    - Abono     \n",
    "R$ 1000.00 - R$  200.00\n",
    "R$  300.00 - R$  100.00\n",
    "R$  500.00 - R$  100.00\n",
    "R$  100.00 - R$  100.00\n",
    "R$ 4500.00 - R$  900.00\n",
    " \n",
    "Foram processados 5 colaboradores\n",
    "Total gasto com abonos: R$ 1400.00\n",
    "Valor mínimo pago a 3 colaboradores\n",
    "Maior valor de abono pago: R$ 900.00"
   ]
  },
  {
   "cell_type": "code",
   "execution_count": 24,
   "id": "fadbcfb2",
   "metadata": {
    "id": "fadbcfb2"
   },
   "outputs": [
    {
     "name": "stdout",
     "output_type": "stream",
     "text": [
      "Projeção de Gasto com Abono\n",
      "==============================\n",
      "\n",
      "\n",
      "Salário: 1000\n",
      "Salário: 300\n",
      "Salário: 500\n",
      "Salário: 200\n",
      "Salário: 1500\n",
      "Salário: 3000\n",
      "Salário: 3400\n",
      "Salário: 5000\n",
      "Salário: 7000\n",
      "Salário: 2000\n",
      "Salário: 600\n",
      "Salário: 800\n",
      "Salário: 250\n",
      "Salário: 1500\n",
      "Salário: 20000\n",
      "\n",
      "Salário  - Abono\n",
      "R$1000   - R$200.0\n",
      "R$300    - R$100\n",
      "R$500    - R$100\n",
      "R$200    - R$100\n",
      "R$1500   - R$300.0\n",
      "R$3000   - R$600.0\n",
      "R$3400   - R$680.0\n",
      "R$5000   - R$1000.0\n",
      "R$7000   - R$1400.0\n",
      "R$2000   - R$400.0\n",
      "R$600    - R$120.0\n",
      "R$800    - R$160.0\n",
      "R$250    - R$100\n",
      "R$1500   - R$300.0\n",
      "R$20000  - R$4000.0\n",
      "\n",
      "Foram processados 15 colaboradores.\n",
      "Foram gasto um total de R$9560.0 com abonos.\n",
      "Valor mínimo pago a 4 colaboradores.\n",
      "O maior valor de abono pago foi de R$4000.0.\n"
     ]
    }
   ],
   "source": [
    "lista_salarios = [1000, 300, 500, 200, 1500, 3000, 3400, 5000, 7000, 2000, 600, 800, 250, 1500, 20000]\n",
    "abonos = []\n",
    "\n",
    "print(\"Projeção de Gasto com Abono\")\n",
    "print(\"=\"*30)\n",
    "print(\"\\n\")\n",
    "\n",
    "cont_colaboradores = 0\n",
    "abono = 0\n",
    "cont_val_minimo = 0 \n",
    "val_maior = 0\n",
    "\n",
    "for salario in lista_salarios:\n",
    "    print(f\"Salário: {salario}\")\n",
    "    if salario > 500:\n",
    "        abono = salario * 0.20\n",
    "        abonos.append(abono)\n",
    "        if abono > val_maior:\n",
    "            val_maior = abono\n",
    "    else:\n",
    "        abono = 100\n",
    "        abonos.append(abono)\n",
    "        cont_val_minimo += 1\n",
    "    cont_colaboradores += 1\n",
    "    \n",
    "print(\"\\nSalário  - Abono\")\n",
    "for i, abono in enumerate(abonos):\n",
    "        print(f\"R${lista_salarios[i]:<5}  - R${abono}\")\n",
    "\n",
    "print(f\"\\nForam processados {cont_colaboradores} colaboradores.\")\n",
    "print(f\"Foram gasto um total de R${sum(abonos)} com abonos.\")\n",
    "print(f\"Valor mínimo pago a {cont_val_minimo} colaboradores.\")\n",
    "print(f\"O maior valor de abono pago foi de R${val_maior}.\")      "
   ]
  },
  {
   "cell_type": "markdown",
   "id": "382b0981",
   "metadata": {
    "id": "382b0981"
   },
   "source": [
    "#### 6. Faça um programa que carregue uma lista com os modelos de cinco carros (exemplo de modelos: FUSCA, GOL, VECTRA etc). Carregue uma outra lista com o consumo desses carros, isto é, quantos quilômetros cada um desses carros faz com um litro de combustível. Calcule e mostre:\n",
    "<pre>\n",
    "a. O modelo do carro mais econômico;\n",
    "b. Quantos litros de combustível cada um dos carros cadastrados consome para percorrer uma distância de 1000 quilômetros e quanto isto custará, considerando um que a gasolina custe R$ 2,25 o litro. Abaixo segue uma tela de exemplo. O disposição das informações deve ser o mais próxima possível ao exemplo. Os dados são fictícios e podem mudar a cada execução do programa.</pre>\n",
    "```\n",
    "Comparativo de Consumo de Combustível\n",
    "\n",
    "Veículo 1\n",
    "Nome: fusca\n",
    "Km por litro: 7\n",
    "Veículo 2\n",
    "Nome: gol\n",
    "Km por litro: 10\n",
    "Veículo 3\n",
    "Nome: uno\n",
    "Km por litro: 12.5\n",
    "Veículo 4\n",
    "Nome: Vectra\n",
    "Km por litro: 9\n",
    "Veículo 5\n",
    "Nome: Peugeout\n",
    "Km por litro: 14.5\n",
    "\n",
    "Relatório Final\n",
    " 1 - fusca           -    7.0 -  142.9 litros - R$ 321.43\n",
    " 2 - gol             -   10.0 -  100.0 litros - R$ 225.00\n",
    " 3 - uno             -   12.5 -   80.0 litros - R$ 180.00\n",
    " 4 - vectra          -    9.0 -  111.1 litros - R$ 250.00\n",
    " 5 - peugeout        -   14.5 -   69.0 litros - R$ 155.17\n",
    "O menor consumo é do peugeout.\n",
    "```"
   ]
  },
  {
   "cell_type": "code",
   "execution_count": 3,
   "id": "6b6c8b06",
   "metadata": {
    "id": "6b6c8b06"
   },
   "outputs": [
    {
     "name": "stdout",
     "output_type": "stream",
     "text": [
      "Comparativo de Consumo de Combustível\n",
      "\n",
      "Veículo 1\n",
      "Nome: fusca\n",
      "Km por litro: 7\n",
      "\n",
      "Veículo 2\n",
      "Nome:  gol\n",
      "Km por litro: 10\n",
      "\n",
      "Veículo 3\n",
      "Nome: uno\n",
      "Km por litro: 12.5\n",
      "\n",
      "Veículo 4\n",
      "Nome: vectra\n",
      "Km por litro: 9\n",
      "\n",
      "Veículo 5\n",
      "Nome: peugeot\n",
      "Km por litro: 14.5\n",
      "\n",
      "Relatório Final\n",
      "\n",
      "1 - fusca      -   7.0 -  142.86 litros - R$321.43\n",
      "2 -  gol       -  10.0 -  100.00 litros - R$225.00\n",
      "3 - uno        -  12.5 -   80.00 litros - R$180.00\n",
      "4 - vectra     -   9.0 -  111.11 litros - R$250.00\n",
      "5 - peugeot    -  14.5 -   68.97 litros - R$155.17\n",
      "\n",
      "O menor consumo foi de peugeot\n"
     ]
    }
   ],
   "source": [
    "print('Comparativo de Consumo de Combustível\\n')\n",
    "veiculos = ['fusca',' gol', 'uno', 'vectra', 'peugeot']\n",
    "autonomias = [7, 10, 12.5, 9, 14.5]\n",
    "\n",
    "distancia = 1000\n",
    "gasolina = 2.25\n",
    "\n",
    "for i in range(len(veiculos)):\n",
    "    print(f\"Veículo {i + 1}\")\n",
    "    print(f\"Nome: {veiculos[i]}\")\n",
    "    print(f\"Km por litro: {autonomias[i]}\\n\")\n",
    "\n",
    "print('Relatório Final\\n')\n",
    "\n",
    "for i, autonomia in enumerate(autonomias):\n",
    "    litros = distancia / autonomia\n",
    "    reais_gastos = litros * gasolina\n",
    "    print(f\"{i + 1} - {veiculos[i]:<10} - {autonomia:>5.1f} - {litros:>7.2f} litros - R${reais_gastos:.2f}\")\n",
    "    \n",
    "i = autonomias.index(max(autonomias))\n",
    "print(f\"\\nO menor consumo foi de {veiculos[i]}\")"
   ]
  },
  {
   "cell_type": "markdown",
   "id": "1d0260a3",
   "metadata": {
    "id": "1d0260a3"
   },
   "source": [
    "#### 7. Uma empresa paga seus vendedores com base em comissões. O vendedor recebe \\\\$200 por semana mais 9 por cento de suas vendas brutas daquela semana. Por exemplo, um vendedor que teve vendas brutas de \\\\$3000 em uma semana recebe \\\\$200 mais 9 por cento de \\\\$3000, ou seja, um total de \\\\$470. Escreva um programa (usando um array de contadores) que determine quantos vendedores receberam salários nos seguintes intervalos de valores:\n",
    "<pre>\n",
    "$200 - $299\n",
    "$300 - $399\n",
    "$400 - $499\n",
    "$500 - $599\n",
    "$600 - $699\n",
    "$700 - $799\n",
    "$800 - $899\n",
    "$900 - $999\n",
    "$1000 em diante\n",
    "</pre>\n",
    "\n",
    "Existem várias formas de fazer. Faça primeiro da forma que parecer mais intuitiva para você.\n",
    "\n",
    "Em seguida, caso queira um desafio:\n",
    "Desafio: Crie uma forma para chegar na posição da lista a partir do salário, sem fazer vários ifs aninhados."
   ]
  },
  {
   "cell_type": "code",
   "execution_count": 54,
   "id": "fc6eaae4",
   "metadata": {
    "id": "fc6eaae4"
   },
   "outputs": [
    {
     "name": "stdout",
     "output_type": "stream",
     "text": [
      "290.0\n",
      "380.0\n",
      "470.0\n",
      "560.0\n",
      "650.0\n",
      "740.0\n",
      "695.0\n",
      "605.0\n",
      "524.0\n",
      "Entre 200 e 299: 1\n",
      "Entre 300 e 399: 1\n",
      "Entre 400 e 499: 1\n",
      "Entre 500 e 599: 2\n",
      "Entre 600 e 699: 3\n",
      "Entre 700 e 799: 1\n",
      "Entre 800 e 899: 0\n",
      "Entre 900 e 999: 0\n",
      "Mais que mil: 0\n"
     ]
    }
   ],
   "source": [
    "vendas = [1000, 2000, 3000, 4000, 5000, 6000, 5500, 4500, 3600]\n",
    "\n",
    "faixas = []\n",
    "\n",
    "for venda in vendas:\n",
    "    bruto = 200 + venda * 0.09\n",
    "    print(bruto)\n",
    "    faixa = int(bruto / 100) #ex: 290 / 100 = 2.9, mas como é int ficará apenas 2\n",
    "    faixas.append(faixa) #primeiro valor = 2\n",
    "    \n",
    "for i in range(len(faixas) - 1):\n",
    "    print(f\"Entre {i*100 + 200} e {i*100 + 299}:\", faixas.count(i + 2)) #como o valor de i começará como 0, é preciso colocar +2 \n",
    "                                                                        #pra fazer relação com o primeiro valor da 'faixas'\n",
    "\n",
    "print(\"Mais que mil:\", faixas.count(len(faixas) + 1))\n",
    "#como o len(faixas) é = 9, se eu não colocasse o \"+1\" faria relação ao 900 ao 999, e não ao \"mais que mil\"\n"
   ]
  }
 ],
 "metadata": {
  "colab": {
   "provenance": []
  },
  "kernelspec": {
   "display_name": "Python 3 (ipykernel)",
   "language": "python",
   "name": "python3"
  },
  "language_info": {
   "codemirror_mode": {
    "name": "ipython",
    "version": 3
   },
   "file_extension": ".py",
   "mimetype": "text/x-python",
   "name": "python",
   "nbconvert_exporter": "python",
   "pygments_lexer": "ipython3",
   "version": "3.9.13"
  }
 },
 "nbformat": 4,
 "nbformat_minor": 5
}
